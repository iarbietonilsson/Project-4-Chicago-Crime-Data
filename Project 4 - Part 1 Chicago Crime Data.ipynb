{
 "cells": [
  {
   "cell_type": "markdown",
   "id": "89c2d7e4",
   "metadata": {},
   "source": [
    "## Project 4 - Part 1 (Core) Chicago Crime Data\n",
    "---\n",
    "* ### Ingrid Arbieto Nelson"
   ]
  },
  {
   "cell_type": "markdown",
   "id": "dd8da857",
   "metadata": {
    "toc": true
   },
   "source": [
    "<h1>Table of Contents<span class=\"tocSkip\"></span></h1>\n",
    "<div class=\"toc\"><ul class=\"toc-item\"><li><span><a href=\"#Project-4---Part-1-(Core)-Chicago-Crime-Data\" data-toc-modified-id=\"Project-4---Part-1-(Core)-Chicago-Crime-Data-1\">Project 4 - Part 1 (Core) Chicago Crime Data</a></span><ul class=\"toc-item\"><li><span><a href=\"#Ingrid-Arbieto-Nelson\" data-toc-modified-id=\"Ingrid-Arbieto-Nelson-1.1\">Ingrid Arbieto Nelson</a></span></li><li><span><a href=\"#Instructions\" data-toc-modified-id=\"Instructions-1.2\">Instructions</a></span></li><li><span><a href=\"#Chicago-Crime-Data\" data-toc-modified-id=\"Chicago-Crime-Data-1.3\">Chicago Crime Data</a></span></li><li><span><a href=\"#Task\" data-toc-modified-id=\"Task-1.4\">Task</a></span></li><li><span><a href=\"#Stakeholder-Questions-to-Answer-(pick-at-least-3-topics).\" data-toc-modified-id=\"Stakeholder-Questions-to-Answer-(pick-at-least-3-topics).-1.5\">Stakeholder Questions to Answer <em>(pick at least 3 topics)</em>.</a></span><ul class=\"toc-item\"><li><span><a href=\"#Select-3-or-more-of-the-following-topics-to-analyze:\" data-toc-modified-id=\"Select-3-or-more-of-the-following-topics-to-analyze:-1.5.1\">Select 3 or more of the following topics to analyze:</a></span></li></ul></li><li><span><a href=\"#Final-Submission\" data-toc-modified-id=\"Final-Submission-1.6\">Final Submission</a></span></li></ul></li><li><span><a href=\"#1)-Comparing-Police-Districts:\" data-toc-modified-id=\"1)-Comparing-Police-Districts:-2\">1) Comparing Police Districts:</a></span><ul class=\"toc-item\"><li><span><a href=\"#Which-district-has-the-most-crimes?-Which-has-the-least?\" data-toc-modified-id=\"Which-district-has-the-most-crimes?-Which-has-the-least?-2.1\">Which district has the most crimes? Which has the least?</a></span></li></ul></li></ul></div>"
   ]
  },
  {
   "cell_type": "markdown",
   "id": "bfd8ebef",
   "metadata": {},
   "source": [
    "### Instructions\n",
    "For this assignment, you will be starting an additional portfolio project that you will continue to build on over the remaining weeks of this stack.\n",
    "\n",
    "* For Part 1, you will be downloading and preparing a crime dataset for time series analysis.\n",
    "* You will then answer provided stakeholder questions and support your answers with visualizations.\n",
    "\n",
    "\n",
    "### Chicago Crime Data\n",
    "* **Source: [Chicago Data Portal](https://data.cityofchicago.org/Public-Safety/Crimes-2001-to-Present/ijzp-q8t2): Crimes 2001 to Present**\n",
    "  * Data Description:\n",
    "    * All Crimes that were reported in the city of Chicago and their details\n",
    "    * [View Preview](https://data.cityofchicago.org/Public-Safety/Crimes-2001-to-Present/ijzp-q8t2/data)\n",
    "  * Includes:\n",
    "    * type of crime, exact date/time, lat/long, District/ward, was there an arrest, etc.\n",
    "  * Note: the .csv is very large and needs to be processed into smaller files to fit inside a GitHub repository. We have provided a helper notebook below to process your downloaded file into a repo-friendly format.\n",
    "* **Data Processing Helper Notebook:**\n",
    "  * Use the helper notebook in this repository to process your manually-downloaded csv into several .csv.gz files: https://github.com/coding-dojo-data-science/preparing-chicago-crime-data\n",
    "  * You can either Fork your own copy of the repository and rename it to be your \"Project 4\" repository, or you can download the notebook and save it in your own repository.\n",
    "* **Supplemental Data: Holiday Data**\n",
    "  * To answer some of the possible questions, you may need to perform some feature engineering, like adding holiday information from an API.\n",
    "  * We have provided an extract of holidays, but you may wish to extract additional holiday information for dates not included in this file.\n",
    "    * [Share URL](https://docs.google.com/spreadsheets/d/1d8hoZzDAhbWx6EwNjrMTTOE5-23Pr1VxJeUxVj1JL9U/edit#gid=1027611797)\n",
    "    * Raw CSV URL (Pandas): https://docs.google.com/spreadsheets/d/e/2PACX-1vTMR4vi1nFtbYO_WLqecU6WoRAQ0F-_QCMcuWUoZhuTygAP2U668cddCWBeAV2eop9fFdyXX856AB2j/pub?output=csv\n",
    "* **Notes/Considerations:**\n",
    "  * You may need to keep 2 forms of the data:\n",
    "    * The original individual crime data with a datetime index. (Each row is 1 crime)\n",
    "    * A resampled/converted crime counts version (Each row is 1 day)\n",
    "\n",
    "### Task\n",
    "Your task is to answer a series of questions about trends in crimes in Chicago for a reporter for the local newspaper.\n",
    "\n",
    "### Stakeholder Questions to Answer *(pick at least 3 topics)*.\n",
    "\n",
    "#### Select 3 or more of the following topics to analyze:\n",
    "**1) Comparing Police Districts:**\n",
    "  * Which district has the most crimes? Which has the least?\n",
    "\n",
    "**2) Crimes Across the Years:**\n",
    "  * Is the total number of crimes increasing or decreasing across the years?\n",
    "  * Are there any individual crimes that are doing the opposite (e.g decreasing when overall crime is increasing or vice-versa)?\n",
    "\n",
    "**3) Comparing AM vs. PM Rush Hour:**\n",
    "  * Are crimes more common during AM rush hour or PM rush hour?\n",
    "    * You can consider any crime that occurred between 7 AM - 10 AM as AM rush hour\n",
    "    * You can consider any crime that occurred between 4 -7 PM as PM rush hour.\n",
    "  * What are the top 5 most common crimes during AM rush hour? What are the top 5 most common crimes during PM rush hour?\n",
    "  * Are Motor Vehicle Thefts more common during AM rush hour or PM Rush Hour?\n",
    "\n",
    "**4) Comparing Months:**\n",
    "  * What months have the most crime? What months have the least?\n",
    "  * Are there any individual crimes that do not follow this pattern? If so, which crimes?\n",
    "\n",
    "**5) Comparing Holidays:**\n",
    "  * Are there any holidays that show an increase in the # of crimes?\n",
    "  * Are there any holidays that show a decrease in the # of crimes?\n",
    "\n",
    "\n",
    "### Final Submission\n",
    "Submit the link to your GitHub Repository (make sure it is public!)"
   ]
  },
  {
   "cell_type": "markdown",
   "id": "feb75fe5",
   "metadata": {},
   "source": [
    "## 1) Comparing Police Districts:\n",
    "  * ### Which district has the most crimes? Which has the least?"
   ]
  },
  {
   "cell_type": "code",
   "execution_count": 1,
   "id": "b0900bb1",
   "metadata": {},
   "outputs": [],
   "source": [
    "import pandas as pd\n",
    "import numpy as np\n",
    "import matplotlib as mpl\n",
    "import matplotlib.pyplot as plt\n",
    "import seaborn as sns\n",
    "import os\n",
    "\n",
    "#import tick customization tools\n",
    "import matplotlib.ticker as mticks\n",
    "import matplotlib.dates as mdates\n",
    "\n",
    "## Setting figures to timeseries-friendly\n",
    "plt.rcParams['figure.figsize'] = (12,4)\n",
    "plt.rcParams['figure.facecolor'] = 'white'\n",
    "sns.set_context(\"talk\", font_scale=0.9)\n",
    "\n",
    "# set random seed\n",
    "SEED = 321\n",
    "np.random.seed(SEED)\n",
    "\n",
    "#display more columns\n",
    "pd.set_option('display.max_columns',50)"
   ]
  },
  {
   "cell_type": "code",
   "execution_count": null,
   "id": "4bd2dc9e",
   "metadata": {},
   "outputs": [],
   "source": []
  }
 ],
 "metadata": {
  "kernelspec": {
   "display_name": "Python (dojo-env)",
   "language": "python",
   "name": "dojo-env"
  },
  "language_info": {
   "codemirror_mode": {
    "name": "ipython",
    "version": 3
   },
   "file_extension": ".py",
   "mimetype": "text/x-python",
   "name": "python",
   "nbconvert_exporter": "python",
   "pygments_lexer": "ipython3",
   "version": "3.9.15"
  },
  "toc": {
   "base_numbering": 1,
   "nav_menu": {},
   "number_sections": false,
   "sideBar": true,
   "skip_h1_title": false,
   "title_cell": "Table of Contents",
   "title_sidebar": "Contents",
   "toc_cell": true,
   "toc_position": {},
   "toc_section_display": true,
   "toc_window_display": true
  }
 },
 "nbformat": 4,
 "nbformat_minor": 5
}
